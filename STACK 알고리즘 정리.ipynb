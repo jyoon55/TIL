{
 "cells": [
  {
   "cell_type": "markdown",
   "id": "5ccd0779",
   "metadata": {},
   "source": [
    "## 스택\n",
    "- 쌓아올린 형태의 자료구조\n",
    "- 스택에 저장된 자료는 선형구조를 가짐\n",
    "- 스택에 자료를 삽입하거나 스택에서 자료를 꺼낼 수 있음\n",
    "- 마지막에 삽입한 자료를 가장먼저 꺼냄 - 후입선출\n",
    "\n",
    "\n"
   ]
  },
  {
   "cell_type": "markdown",
   "id": "ae16ccdf",
   "metadata": {},
   "source": [
    "자료를 선형으로 저장할 저장소가 필요함\n",
    "- 파이썬에서는 리스트를 사용\n",
    "- 스택에서 마지막 삽입된 원소의 위치를 top이라고 부름"
   ]
  },
  {
   "cell_type": "code",
   "execution_count": null,
   "id": "abb1f0b8",
   "metadata": {},
   "outputs": [],
   "source": [
    "# push\n",
    "def push(item):\n",
    "    s.append(item)\n",
    "    \n",
    "# pop\n",
    "def pop():\n",
    "    if len(s) == 0:\n",
    "        #underflow\n",
    "        return\n",
    "    else:\n",
    "        return s.pop(-1)"
   ]
  },
  {
   "cell_type": "markdown",
   "id": "7d5aef0c",
   "metadata": {},
   "source": [
    "리스트를 사용하여 스택을 구현하는 경우\n",
    "- 장 : 구현이 용이 \n",
    "- 단 : 많은 시간 소요\n",
    "<br><br>\n",
    "- 리스트의 크기가 변동되지 않도록 배열 처럼 크기를 미리 정해놓고 사용하는 방법\n",
    "- 동적 연결리스트를 이용하여 저장소를 동적으로 할당하여 스택을 구현하는 방법\n",
    "- 다만, 리스트로 구현하는 것보다 구현이 복잡하게 됨 "
   ]
  },
  {
   "cell_type": "markdown",
   "id": "d09bd456",
   "metadata": {},
   "source": [
    "## 응용"
   ]
  },
  {
   "cell_type": "markdown",
   "id": "6791f7b0",
   "metadata": {},
   "source": [
    "### 괄호검사"
   ]
  },
  {
   "cell_type": "markdown",
   "id": "d2b8cc66",
   "metadata": {},
   "source": [
    "스택 응용\n",
    "\n",
    "- 괄호 검사\n",
    "- 함수 호출(function call) - 재귀호출 방식 ex) 팩토리얼\n"
   ]
  },
  {
   "cell_type": "markdown",
   "id": "069497e7",
   "metadata": {},
   "source": [
    "### memoization"
   ]
  },
  {
   "cell_type": "markdown",
   "id": "993e7c89",
   "metadata": {},
   "source": [
    "memoization\n",
    "- 이전에 계산한 값을 저장해서 매번 다시 계산하지 않도록 함 \n",
    "- 피보나치 \n",
    " -- fibo(n)의 값을 계산하고 저장하면 실행시간을 줄일 수 있음\n",
    " \n",
    "def fibo1(n):<br>\n",
    "    global memo<br>\n",
    "    if n >= 2 and len(memo) <= n:<br>\n",
    "        memo.append(fibo1(n-1) + fibo1(n-2))<br>\n",
    "    return memo[n]<br>\n",
    "<br>\n",
    "memo = [0,1]\n",
    "\n",
    "- 만약 기존에 계산하여 저장된 값이  있을 경우 다시 계산하지 않겠다는 알고리즘 "
   ]
  },
  {
   "cell_type": "markdown",
   "id": "03ee5fb8",
   "metadata": {},
   "source": [
    "### 동적 계획법(DP)"
   ]
  },
  {
   "cell_type": "markdown",
   "id": "f7b6263b",
   "metadata": {},
   "source": [
    "동적 계획법(DP)\n",
    "\n",
    "- 그리디 알고리즘과 같이 최적화 문제를 해결하는 알고리즘\n",
    "\n",
    "DP의 구현 방식 : 재귀, 반복\n",
    "- recursive : 재귀적 구조는 내부에 시스템 호출 스택을 사용하는 오버헤드가 발생할 수 있음 \n",
    "- iterative : 반복적 구조롤 DP를 구현한 것이 성능면에서 보다 효율적\n"
   ]
  },
  {
   "cell_type": "markdown",
   "id": "c21e1658",
   "metadata": {},
   "source": [
    "### DFS"
   ]
  },
  {
   "cell_type": "markdown",
   "id": "e99a8093",
   "metadata": {},
   "source": [
    "- 중요 \n",
    "\n",
    "깊이 우선 탐색 \n",
    "- 시작 정점의 한 방향으로 갈 수 있는 경로가 있는 곳 까지 깊이 탐색 > 더이상 갈 곳이 없게 되면, 가장 마지막에 만났던 갈림길 간선이 있는 정점으로 되돌아옴 > 다른 방향의 정점으로 탐색을 계속 반복하여 결국 모든 정점을 방문하여 순회 > 가장 마지막에 만났던 갈림길의 정점으로 되돌아가서 다시 깊이 우선 탐색을 반복해야 하므로 후입선출 구조의 스택을 사용\n",
    "\n"
   ]
  },
  {
   "cell_type": "code",
   "execution_count": null,
   "id": "f4ca8a99",
   "metadata": {},
   "outputs": [],
   "source": []
  }
 ],
 "metadata": {
  "kernelspec": {
   "display_name": "Python 3 (ipykernel)",
   "language": "python",
   "name": "python3"
  },
  "language_info": {
   "codemirror_mode": {
    "name": "ipython",
    "version": 3
   },
   "file_extension": ".py",
   "mimetype": "text/x-python",
   "name": "python",
   "nbconvert_exporter": "python",
   "pygments_lexer": "ipython3",
   "version": "3.9.7"
  }
 },
 "nbformat": 4,
 "nbformat_minor": 5
}
